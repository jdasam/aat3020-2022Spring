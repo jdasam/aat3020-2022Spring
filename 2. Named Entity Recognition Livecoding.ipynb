{
  "cells": [
    {
      "cell_type": "markdown",
      "id": "45a2da87",
      "metadata": {
        "id": "45a2da87"
      },
      "source": [
        "# Named Entity Recognition\n",
        "- For a given word and its context window, estimate whether the given word is location or not"
      ]
    },
    {
      "cell_type": "markdown",
      "id": "11619f5d",
      "metadata": {
        "id": "11619f5d"
      },
      "source": [
        "# 1. Download dataset\n",
        "- CoNLL2003 "
      ]
    },
    {
      "cell_type": "code",
      "execution_count": null,
      "id": "10a4faa3",
      "metadata": {
        "id": "10a4faa3"
      },
      "outputs": [],
      "source": [
        "!wget https://data.deepai.org/conll2003.zip # Download dataset\n",
        "!unzip conll2003.zip # Unzip dataset zip"
      ]
    },
    {
      "cell_type": "markdown",
      "id": "7643dde5",
      "metadata": {
        "id": "7643dde5"
      },
      "source": [
        "## 2. Preprocess Dataset"
      ]
    },
    {
      "cell_type": "code",
      "execution_count": null,
      "id": "d31874b2",
      "metadata": {
        "id": "d31874b2",
        "outputId": "c0d43b47-1f43-4aa1-8130-d5a314556ed3"
      },
      "outputs": [
        {
          "data": {
            "text/plain": [
              "[\"'s POS B-NP O\",\n",
              " 'representative NN I-NP O',\n",
              " 'to TO B-PP O',\n",
              " 'the DT B-NP O',\n",
              " 'European NNP I-NP B-ORG',\n",
              " 'Union NNP I-NP I-ORG',\n",
              " \"'s POS B-NP O\",\n",
              " 'veterinary JJ I-NP O',\n",
              " 'committee NN I-NP O',\n",
              " 'Werner NNP I-NP B-PER',\n",
              " 'Zwingmann NNP I-NP I-PER',\n",
              " 'said VBD B-VP O',\n",
              " 'on IN B-PP O',\n",
              " 'Wednesday NNP B-NP O',\n",
              " 'consumers NNS I-NP O',\n",
              " 'should MD B-VP O',\n",
              " 'buy VB I-VP O',\n",
              " 'sheepmeat NN B-NP O',\n",
              " 'from IN B-PP O',\n",
              " 'countries NNS B-NP O',\n",
              " 'other JJ B-ADJP O',\n",
              " 'than IN B-PP O',\n",
              " 'Britain NNP B-NP B-LOC',\n",
              " 'until IN B-SBAR O',\n",
              " 'the DT B-NP O',\n",
              " 'scientific JJ I-NP O',\n",
              " 'advice NN I-NP O',\n",
              " 'was VBD B-VP O',\n",
              " 'clearer JJR B-ADJP O',\n",
              " '. . O O']"
            ]
          },
          "execution_count": 2,
          "metadata": {},
          "output_type": "execute_result"
        }
      ],
      "source": [
        "with open(\"train.txt\") as f:\n",
        "  string = ''.join(f.readlines())\n",
        "dataset = string.split('\\n')\n",
        "\n",
        "dataset[50:80]"
      ]
    },
    {
      "cell_type": "code",
      "execution_count": null,
      "id": "49e7f34b",
      "metadata": {
        "scrolled": true,
        "id": "49e7f34b",
        "outputId": "46e3a828-ba09-4374-a4d5-439a1daa09a6"
      },
      "outputs": [
        {
          "data": {
            "text/plain": [
              "[['-DOCSTART- -X- -X- O'],\n",
              " ['EU NNP B-NP B-ORG',\n",
              "  'rejects VBZ B-VP O',\n",
              "  'German JJ B-NP B-MISC',\n",
              "  'call NN I-NP O',\n",
              "  'to TO B-VP O',\n",
              "  'boycott VB I-VP O',\n",
              "  'British JJ B-NP B-MISC',\n",
              "  'lamb NN I-NP O',\n",
              "  '. . O O'],\n",
              " ['Peter NNP B-NP B-PER', 'Blackburn NNP I-NP I-PER'],\n",
              " ['BRUSSELS NNP B-NP B-LOC', '1996-08-22 CD I-NP O'],\n",
              " ['The DT B-NP O',\n",
              "  'European NNP I-NP B-ORG',\n",
              "  'Commission NNP I-NP I-ORG',\n",
              "  'said VBD B-VP O',\n",
              "  'on IN B-PP O',\n",
              "  'Thursday NNP B-NP O',\n",
              "  'it PRP B-NP O',\n",
              "  'disagreed VBD B-VP O',\n",
              "  'with IN B-PP O',\n",
              "  'German JJ B-NP B-MISC',\n",
              "  'advice NN I-NP O',\n",
              "  'to TO B-PP O',\n",
              "  'consumers NNS B-NP O',\n",
              "  'to TO B-VP O',\n",
              "  'shun VB I-VP O',\n",
              "  'British JJ B-NP B-MISC',\n",
              "  'lamb NN I-NP O',\n",
              "  'until IN B-SBAR O',\n",
              "  'scientists NNS B-NP O',\n",
              "  'determine VBP B-VP O',\n",
              "  'whether IN B-SBAR O',\n",
              "  'mad JJ B-NP O',\n",
              "  'cow NN I-NP O',\n",
              "  'disease NN I-NP O',\n",
              "  'can MD B-VP O',\n",
              "  'be VB I-VP O',\n",
              "  'transmitted VBN I-VP O',\n",
              "  'to TO B-PP O',\n",
              "  'sheep NN B-NP O',\n",
              "  '. . O O']]"
            ]
          },
          "execution_count": 3,
          "metadata": {},
          "output_type": "execute_result"
        }
      ],
      "source": [
        "from itertools import groupby\n",
        "\n",
        "dataset_in_sentence = [list(group) for k, group in groupby(dataset, lambda x: x == \"\") if not k]\n",
        "dataset_in_sentence[:5]"
      ]
    },
    {
      "cell_type": "markdown",
      "id": "18c29a2a",
      "metadata": {
        "id": "18c29a2a"
      },
      "source": [
        "### 2.1 Make Data Loader"
      ]
    },
    {
      "cell_type": "code",
      "execution_count": null,
      "id": "8a4d1fbc",
      "metadata": {
        "scrolled": true,
        "id": "8a4d1fbc",
        "outputId": "f863d135-9a1b-4d30-d388-875d4abb033d"
      },
      "outputs": [
        {
          "name": "stdout",
          "output_type": "stream",
          "text": [
            "['The DT B-NP O', 'European NNP I-NP B-ORG', 'Commission NNP I-NP I-ORG', 'said VBD B-VP O', 'on IN B-PP O', 'Thursday NNP B-NP O', 'it PRP B-NP O', 'disagreed VBD B-VP O', 'with IN B-PP O', 'German JJ B-NP B-MISC', 'advice NN I-NP O', 'to TO B-PP O', 'consumers NNS B-NP O', 'to TO B-VP O', 'shun VB I-VP O', 'British JJ B-NP B-MISC', 'lamb NN I-NP O', 'until IN B-SBAR O', 'scientists NNS B-NP O', 'determine VBP B-VP O', 'whether IN B-SBAR O', 'mad JJ B-NP O', 'cow NN I-NP O', 'disease NN I-NP O', 'can MD B-VP O', 'be VB I-VP O', 'transmitted VBN I-VP O', 'to TO B-PP O', 'sheep NN B-NP O', '. . O O']\n",
            "['PAD', 'PAD', 'the', 'european', 'commission']\n"
          ]
        }
      ],
      "source": [
        "window_size = 2 \n",
        "sentence = dataset_in_sentence[4]\n",
        "word_idx = 0\n",
        "center_word = sentence[2].split(' ')[0]\n",
        "\n",
        "# from word_idx - window_length until word_idx + window_length\n",
        "def get_words_window(sentence, word_idx, window_size):\n",
        "  idx_range = range( max(word_idx-window_size, 0), min(word_idx+window_size+1, len(sentence)))\n",
        "  windowed_words = [sentence[idx].split(' ')[0].lower() for idx in idx_range]\n",
        "  \n",
        "  if word_idx < window_size:\n",
        "    windowed_words = ['PAD'] * (window_size-word_idx) + windowed_words\n",
        "  if word_idx + window_size >= len(sentence):\n",
        "    windowed_words += ['PAD'] * (word_idx + window_size -len(sentence)+1)\n",
        "  \n",
        "  assert len(windowed_words) == 1+window_size*2, \"The length of output has to follow window size\"\n",
        "  return windowed_words\n",
        "\n",
        "print(sentence)\n",
        "print(get_words_window(sentence, word_idx, window_size))\n",
        "# center_word"
      ]
    },
    {
      "cell_type": "code",
      "execution_count": null,
      "id": "d1c52b6c",
      "metadata": {
        "id": "d1c52b6c"
      },
      "outputs": [],
      "source": [
        "import gensim.downloader\n",
        "\n",
        "wrd2vec = gensim.downloader.load(\"glove-wiki-gigaword-300\")"
      ]
    },
    {
      "cell_type": "code",
      "execution_count": null,
      "id": "b5a0f80d",
      "metadata": {
        "id": "b5a0f80d",
        "outputId": "51b300d7-402c-4fed-f623-9d5c29d64bcc"
      },
      "outputs": [
        {
          "name": "stdout",
          "output_type": "stream",
          "text": [
            "['PAD', 'PAD', 'the', 'european', 'commission']\n",
            "the [ 0.04656    0.21318   -0.0074364 -0.45854   -0.035639   0.23643\n",
            " -0.28836    0.21521   -0.13486   -1.6413   ]\n",
            "european [ 0.37636   0.1245    0.13028   0.024309  0.50706   0.18205  -0.44874\n",
            "  0.35522   0.27065  -2.2199  ]\n",
            "commission [ 4.7286e-01 -3.9634e-01 -2.6584e-01  1.2371e-02 -2.5906e-01 -2.5823e-01\n",
            "  1.1492e-01 -1.4363e-01  2.0568e-03 -2.2627e+00]\n"
          ]
        }
      ],
      "source": [
        "word_idx = 0\n",
        "words_window = get_words_window(sentence, word_idx, window_size)\n",
        "print(words_window)\n",
        "for word in words_window:\n",
        "  if word in wrd2vec:\n",
        "    print(word , wrd2vec[word][:10])"
      ]
    },
    {
      "cell_type": "code",
      "execution_count": null,
      "id": "5a6bd62c",
      "metadata": {
        "id": "5a6bd62c",
        "outputId": "b7d95403-9ca1-4894-cb53-d41681f857a0"
      },
      "outputs": [
        {
          "name": "stderr",
          "output_type": "stream",
          "text": [
            "/tmp/ipykernel_1164735/4286083826.py:7: UserWarning: The given NumPy array is not writable, and PyTorch does not support non-writable tensors. This means writing to this tensor will result in undefined behavior. You may want to copy the array to protect its data or make it writable before converting it to a tensor. This type of warning will be suppressed for the rest of this program. (Triggered internally at  ../torch/csrc/utils/tensor_numpy.cpp:178.)\n",
            "  concat_vector.append(torch.Tensor(wrd2vec[word]))\n"
          ]
        }
      ],
      "source": [
        "# concat vectors\n",
        "import torch\n",
        "\n",
        "concat_vector = []\n",
        "for word in words_window:\n",
        "  if word in wrd2vec:\n",
        "    concat_vector.append(torch.Tensor(wrd2vec[word]))\n",
        "  else:\n",
        "    zero_vector = torch.zeros(300)\n",
        "    concat_vector.append(zero_vector)\n",
        "\n",
        "concat_tensor = torch.cat(concat_vector)\n"
      ]
    },
    {
      "cell_type": "code",
      "execution_count": null,
      "id": "a52c7369",
      "metadata": {
        "id": "a52c7369",
        "outputId": "da9a176c-bf5c-4c03-b4b0-4a7c0bc9676c"
      },
      "outputs": [
        {
          "data": {
            "text/plain": [
              "tensor(True)"
            ]
          },
          "execution_count": 8,
          "metadata": {},
          "output_type": "execute_result"
        }
      ],
      "source": [
        "def make_flattened_vector_for_words_window(words_window):\n",
        "  '''\n",
        "  words_window (list): A list of words, with length 1+window_size*2\n",
        "  '''\n",
        "  output = [torch.Tensor(wrd2vec[word]) if word in wrd2vec else torch.zeros(300) for word in words_window ]\n",
        "  \n",
        "  return torch.cat(output)\n",
        "\n",
        "'''\n",
        "If you want to compare two tensors, and make sure those two tensors are exactly same (for every dimension)\n",
        "you can use abooltensor.all()\n",
        "'''\n",
        "bool_tensor = concat_tensor == make_flattened_vector_for_words_window(words_window)\n",
        "bool_tensor.all()\n",
        "# (concat_tensor == make_flattened_vector_for_words_window(words_window)).all()\n",
        "  \n",
        "  "
      ]
    },
    {
      "cell_type": "code",
      "execution_count": null,
      "id": "401cc7a0",
      "metadata": {
        "id": "401cc7a0"
      },
      "outputs": [],
      "source": [
        ""
      ]
    },
    {
      "cell_type": "code",
      "execution_count": null,
      "id": "d5cc5ff0",
      "metadata": {
        "id": "d5cc5ff0",
        "outputId": "1dd9b070-c42b-4d1f-e8e4-05036ce7ef8d"
      },
      "outputs": [
        {
          "name": "stdout",
          "output_type": "stream",
          "text": [
            "tensor(False)\n"
          ]
        },
        {
          "data": {
            "text/plain": [
              "\"\\n[300 300 300 300 300]\\n1500 \\n\\nconcat_tensor's 1200th dimension\\n= 0th dimension of the 4th word\\n\\nconcat_tensor's 50th dimension\\n= 50th dimension of the 0th word\\n\\nconcat_tensor's 350th dimension\\n= 50th dimension of the 1st word\\n\\n\\n\""
            ]
          },
          "execution_count": 9,
          "metadata": {},
          "output_type": "execute_result"
        }
      ],
      "source": [
        "concat_tensor = torch.cat(concat_vector)\n",
        "\n",
        "print(concat_tensor[650] == concat_vector[2][49])\n",
        "'''\n",
        "[300 300 300 300 300]\n",
        "1500 \n",
        "\n",
        "concat_tensor's 1200th dimension\n",
        "= 0th dimension of the 4th word\n",
        "\n",
        "concat_tensor's 50th dimension\n",
        "= 50th dimension of the 0th word\n",
        "\n",
        "concat_tensor's 350th dimension\n",
        "= 50th dimension of the 1st word\n",
        "\n",
        "\n",
        "'''"
      ]
    },
    {
      "cell_type": "code",
      "execution_count": null,
      "id": "e89c74c8",
      "metadata": {
        "id": "e89c74c8"
      },
      "outputs": [],
      "source": [
        "import torch.nn as nn\n",
        "\n",
        "hidden_size = 128\n",
        "first_layer = nn.Linear(300*5, 128, bias=True)"
      ]
    },
    {
      "cell_type": "code",
      "execution_count": null,
      "id": "d62884d5",
      "metadata": {
        "id": "d62884d5",
        "outputId": "cf723287-022d-4a53-9325-183279ddb436"
      },
      "outputs": [
        {
          "data": {
            "text/plain": [
              "torch.Size([128, 1500])"
            ]
          },
          "execution_count": 11,
          "metadata": {},
          "output_type": "execute_result"
        }
      ],
      "source": [
        "first_layer.weight.shape"
      ]
    },
    {
      "cell_type": "code",
      "execution_count": null,
      "id": "ee1beaec",
      "metadata": {
        "id": "ee1beaec",
        "outputId": "142c140f-2758-43ae-b3c2-220033a6b9f6"
      },
      "outputs": [
        {
          "data": {
            "text/plain": [
              "torch.Size([128])"
            ]
          },
          "execution_count": 12,
          "metadata": {},
          "output_type": "execute_result"
        }
      ],
      "source": [
        "first_layer.bias.shape"
      ]
    },
    {
      "cell_type": "code",
      "execution_count": null,
      "id": "6b2d23ea",
      "metadata": {
        "id": "6b2d23ea",
        "outputId": "80b02c88-553f-4abf-b660-d4d73199eb51"
      },
      "outputs": [
        {
          "data": {
            "text/plain": [
              "(torch.Size([1500]), torch.Size([128]))"
            ]
          },
          "execution_count": 13,
          "metadata": {},
          "output_type": "execute_result"
        }
      ],
      "source": [
        "hidden = first_layer(concat_tensor)\n",
        "concat_tensor.shape, hidden.shape"
      ]
    },
    {
      "cell_type": "code",
      "execution_count": null,
      "id": "1772c2c6",
      "metadata": {
        "id": "1772c2c6",
        "outputId": "c012e7a1-6c03-4107-f0ca-c63043abb555"
      },
      "outputs": [
        {
          "data": {
            "text/plain": [
              "tensor([-0.1561,  0.0150, -0.0555,  0.1202,  0.0573, -0.1806, -0.0877, -0.0009,\n",
              "        -0.0623, -0.0717,  0.0511,  0.0354, -0.1165, -0.0768, -0.0139,  0.3580,\n",
              "         0.1235, -0.2091,  0.0660, -0.1271, -0.1109,  0.0958,  0.0822, -0.1223,\n",
              "         0.2240,  0.1587,  0.0632,  0.3656,  0.1843,  0.2369, -0.2977,  0.3229,\n",
              "         0.1084, -0.0889, -0.1031,  0.2368, -0.2004, -0.0711, -0.1292, -0.1653,\n",
              "         0.1943,  0.0628,  0.0220,  0.2881, -0.0788, -0.0707, -0.0554,  0.1184,\n",
              "        -0.1508,  0.0415,  0.0330,  0.0791, -0.0316, -0.0812,  0.0199,  0.0530,\n",
              "         0.2764,  0.1022,  0.1191, -0.0724,  0.2045,  0.1434,  0.0057, -0.0373,\n",
              "         0.0408, -0.0721, -0.1142, -0.2141,  0.1860,  0.2129,  0.1694,  0.3520,\n",
              "        -0.0980,  0.0508,  0.0976, -0.2751,  0.1304, -0.0899,  0.2433, -0.1331,\n",
              "         0.1397, -0.2434,  0.0947,  0.1090, -0.1863, -0.0407,  0.0957, -0.1860,\n",
              "        -0.1871, -0.0527, -0.2323, -0.1037, -0.1026, -0.0432, -0.1342, -0.0750,\n",
              "         0.1368,  0.2670,  0.1359,  0.1224,  0.0162, -0.1384, -0.0662, -0.1301,\n",
              "         0.0821, -0.1864,  0.2425, -0.1284, -0.1270, -0.1244, -0.1113,  0.0029,\n",
              "        -0.2197, -0.1845,  0.1853, -0.0250,  0.0143, -0.1113,  0.2571, -0.1946,\n",
              "        -0.0138,  0.1424, -0.0600,  0.1557, -0.0026,  0.0270,  0.0278,  0.2293],\n",
              "       grad_fn=<AddBackward0>)"
            ]
          },
          "execution_count": 14,
          "metadata": {},
          "output_type": "execute_result"
        }
      ],
      "source": [
        "\n",
        "wx = torch.matmul(first_layer.weight, concat_tensor) \n",
        "b = first_layer.bias\n",
        "\n",
        "wx+b"
      ]
    },
    {
      "cell_type": "code",
      "execution_count": null,
      "id": "4cd5e5c2",
      "metadata": {
        "id": "4cd5e5c2",
        "outputId": "9b85cfe5-d254-4990-9f46-0da3c49bf076"
      },
      "outputs": [
        {
          "data": {
            "text/plain": [
              "tensor([-0.1561,  0.0150, -0.0555,  0.1202,  0.0573, -0.1806, -0.0877, -0.0009,\n",
              "        -0.0623, -0.0717,  0.0511,  0.0354, -0.1165, -0.0768, -0.0139,  0.3580,\n",
              "         0.1235, -0.2091,  0.0660, -0.1271, -0.1109,  0.0958,  0.0822, -0.1223,\n",
              "         0.2240,  0.1587,  0.0632,  0.3656,  0.1843,  0.2369, -0.2977,  0.3229,\n",
              "         0.1084, -0.0889, -0.1031,  0.2368, -0.2004, -0.0711, -0.1292, -0.1653,\n",
              "         0.1943,  0.0628,  0.0220,  0.2881, -0.0788, -0.0707, -0.0554,  0.1184,\n",
              "        -0.1508,  0.0415,  0.0330,  0.0791, -0.0316, -0.0812,  0.0199,  0.0530,\n",
              "         0.2764,  0.1022,  0.1191, -0.0724,  0.2045,  0.1434,  0.0057, -0.0373,\n",
              "         0.0408, -0.0721, -0.1142, -0.2141,  0.1860,  0.2129,  0.1694,  0.3520,\n",
              "        -0.0980,  0.0508,  0.0976, -0.2751,  0.1304, -0.0899,  0.2433, -0.1331,\n",
              "         0.1397, -0.2434,  0.0947,  0.1090, -0.1863, -0.0407,  0.0957, -0.1860,\n",
              "        -0.1871, -0.0527, -0.2323, -0.1037, -0.1026, -0.0432, -0.1342, -0.0750,\n",
              "         0.1368,  0.2670,  0.1359,  0.1224,  0.0162, -0.1384, -0.0662, -0.1301,\n",
              "         0.0821, -0.1864,  0.2425, -0.1284, -0.1270, -0.1244, -0.1113,  0.0029,\n",
              "        -0.2197, -0.1845,  0.1853, -0.0250,  0.0143, -0.1113,  0.2571, -0.1946,\n",
              "        -0.0138,  0.1424, -0.0600,  0.1557, -0.0026,  0.0270,  0.0278,  0.2293],\n",
              "       grad_fn=<AddBackward0>)"
            ]
          },
          "execution_count": 15,
          "metadata": {},
          "output_type": "execute_result"
        }
      ],
      "source": [
        "first_layer(concat_tensor)"
      ]
    },
    {
      "cell_type": "code",
      "execution_count": null,
      "id": "9af99d70",
      "metadata": {
        "id": "9af99d70",
        "outputId": "02a0deab-ba2a-4f11-e7ec-716dfa773ec0"
      },
      "outputs": [
        {
          "name": "stdout",
          "output_type": "stream",
          "text": [
            "torch.Size([128, 1500])\n"
          ]
        },
        {
          "data": {
            "text/plain": [
              "tensor([-0.0158,  0.0165, -0.0012,  ...,  0.0174, -0.0068,  0.0051],\n",
              "       grad_fn=<SelectBackward0>)"
            ]
          },
          "execution_count": 16,
          "metadata": {},
          "output_type": "execute_result"
        }
      ],
      "source": [
        "print(first_layer.weight.shape)\n",
        "first_layer.weight[0]"
      ]
    },
    {
      "cell_type": "code",
      "execution_count": null,
      "id": "86ab205d",
      "metadata": {
        "scrolled": true,
        "id": "86ab205d"
      },
      "outputs": [],
      "source": [
        "entire_output = []\n",
        "for neuron in first_layer.weight:\n",
        "  entire_output.append((neuron * concat_tensor).sum())\n",
        "# entire_output\n",
        "                    "
      ]
    },
    {
      "cell_type": "code",
      "execution_count": null,
      "id": "b03c750c",
      "metadata": {
        "id": "b03c750c",
        "outputId": "24eb8ca6-e564-405f-fbd6-b143753621e8"
      },
      "outputs": [
        {
          "data": {
            "text/plain": [
              "['PAD', 'PAD', 'the', 'european', 'commission']"
            ]
          },
          "execution_count": 18,
          "metadata": {},
          "output_type": "execute_result"
        }
      ],
      "source": [
        "words_window"
      ]
    },
    {
      "cell_type": "code",
      "execution_count": null,
      "id": "f6dbee12",
      "metadata": {
        "scrolled": true,
        "id": "f6dbee12",
        "outputId": "13e30ea5-ef45-43ab-8ef6-3f9f78918eb7"
      },
      "outputs": [
        {
          "data": {
            "text/plain": [
              "tensor([-0.0135,  0.0101,  0.0076, -0.0051,  0.0104,  0.0199, -0.0135, -0.0210,\n",
              "         0.0121,  0.0149,  0.0076,  0.0195,  0.0150,  0.0242, -0.0142, -0.0175,\n",
              "         0.0092,  0.0017,  0.0002,  0.0238, -0.0215, -0.0130, -0.0018,  0.0090,\n",
              "         0.0235, -0.0252,  0.0171,  0.0130, -0.0189,  0.0157,  0.0138,  0.0112,\n",
              "        -0.0141, -0.0219, -0.0176, -0.0216,  0.0209, -0.0181, -0.0018,  0.0115,\n",
              "        -0.0211, -0.0150,  0.0015,  0.0155, -0.0118, -0.0130, -0.0006, -0.0168,\n",
              "        -0.0105, -0.0029,  0.0179, -0.0218,  0.0091, -0.0002,  0.0185,  0.0174,\n",
              "         0.0066,  0.0028,  0.0060,  0.0059,  0.0187,  0.0172, -0.0048, -0.0113,\n",
              "         0.0241, -0.0022, -0.0055,  0.0180,  0.0126,  0.0099, -0.0102,  0.0125,\n",
              "         0.0008,  0.0006, -0.0039, -0.0059, -0.0041,  0.0109,  0.0085,  0.0085,\n",
              "        -0.0097,  0.0082, -0.0056, -0.0212,  0.0186,  0.0090, -0.0160, -0.0007,\n",
              "        -0.0037, -0.0238,  0.0160,  0.0160, -0.0189, -0.0117,  0.0131,  0.0101,\n",
              "         0.0083,  0.0123,  0.0001,  0.0204, -0.0119,  0.0061,  0.0039,  0.0132,\n",
              "        -0.0037,  0.0206,  0.0229,  0.0194, -0.0078,  0.0045, -0.0023,  0.0026,\n",
              "         0.0018, -0.0215,  0.0249, -0.0176, -0.0013, -0.0187, -0.0069,  0.0226,\n",
              "        -0.0055, -0.0142, -0.0012, -0.0220, -0.0165,  0.0049, -0.0149,  0.0020,\n",
              "         0.0085,  0.0108,  0.0200, -0.0082, -0.0029,  0.0163, -0.0162, -0.0171,\n",
              "         0.0246, -0.0192,  0.0057, -0.0134, -0.0020,  0.0251,  0.0232,  0.0066,\n",
              "         0.0076,  0.0173,  0.0161, -0.0123,  0.0060, -0.0155,  0.0071,  0.0220,\n",
              "        -0.0206,  0.0058,  0.0110,  0.0206,  0.0139, -0.0012,  0.0158, -0.0229,\n",
              "        -0.0195, -0.0198,  0.0034, -0.0102,  0.0055,  0.0149, -0.0200, -0.0076,\n",
              "        -0.0095,  0.0062,  0.0236,  0.0155,  0.0108,  0.0208,  0.0010, -0.0037,\n",
              "         0.0191, -0.0134,  0.0128,  0.0213,  0.0188, -0.0019,  0.0072, -0.0094,\n",
              "        -0.0229, -0.0098,  0.0132, -0.0175, -0.0124,  0.0221, -0.0208, -0.0250,\n",
              "         0.0066,  0.0185,  0.0056,  0.0254, -0.0239, -0.0245,  0.0090, -0.0116,\n",
              "         0.0072, -0.0109, -0.0021, -0.0133,  0.0069,  0.0195,  0.0254,  0.0236,\n",
              "         0.0111,  0.0216,  0.0212, -0.0194, -0.0077,  0.0038,  0.0172, -0.0187,\n",
              "         0.0174, -0.0074,  0.0033,  0.0115, -0.0076, -0.0233,  0.0149,  0.0232,\n",
              "        -0.0114, -0.0133, -0.0169, -0.0172, -0.0031, -0.0231,  0.0078,  0.0101,\n",
              "         0.0044,  0.0189, -0.0134, -0.0073, -0.0203, -0.0257,  0.0236, -0.0078,\n",
              "         0.0107,  0.0037,  0.0057,  0.0143,  0.0208,  0.0200, -0.0232,  0.0200,\n",
              "         0.0050,  0.0122,  0.0012,  0.0120,  0.0125,  0.0021, -0.0005, -0.0093,\n",
              "        -0.0056,  0.0193,  0.0253,  0.0243, -0.0248,  0.0211,  0.0253,  0.0119,\n",
              "         0.0190,  0.0190, -0.0024,  0.0181, -0.0042, -0.0059, -0.0097,  0.0064,\n",
              "         0.0151,  0.0192, -0.0162, -0.0179, -0.0080,  0.0118, -0.0207, -0.0024,\n",
              "        -0.0185,  0.0045, -0.0018,  0.0131,  0.0065, -0.0230, -0.0206,  0.0043,\n",
              "         0.0233, -0.0223,  0.0258,  0.0208,  0.0161, -0.0160, -0.0214, -0.0214,\n",
              "        -0.0174,  0.0088,  0.0045, -0.0085], grad_fn=<SliceBackward0>)"
            ]
          },
          "execution_count": 19,
          "metadata": {},
          "output_type": "execute_result"
        }
      ],
      "source": [
        "first_layer.weight[0][600:900]"
      ]
    },
    {
      "cell_type": "code",
      "execution_count": null,
      "id": "d8347386",
      "metadata": {
        "scrolled": true,
        "id": "d8347386",
        "outputId": "72ba6b30-b6dc-402e-8a81-7a7b2a1cfe96"
      },
      "outputs": [
        {
          "data": {
            "text/plain": [
              "(tensor([-0.1561,  0.0150, -0.0555,  0.1202,  0.0573, -0.1806, -0.0877, -0.0009,\n",
              "         -0.0623, -0.0717,  0.0511,  0.0354, -0.1165, -0.0768, -0.0139,  0.3580,\n",
              "          0.1235, -0.2091,  0.0660, -0.1271], grad_fn=<SliceBackward0>),\n",
              " tensor([0.0000, 0.0150, 0.0000, 0.1202, 0.0573, 0.0000, 0.0000, 0.0000, 0.0000,\n",
              "         0.0000, 0.0511, 0.0354, 0.0000, 0.0000, 0.0000, 0.3580, 0.1235, 0.0000,\n",
              "         0.0660, 0.0000], grad_fn=<SliceBackward0>))"
            ]
          },
          "execution_count": 20,
          "metadata": {},
          "output_type": "execute_result"
        }
      ],
      "source": [
        "hidden = first_layer(concat_tensor)\n",
        "hidden_after_activation = torch.relu(hidden)\n",
        "hidden[:20], hidden_after_activation[:20]"
      ]
    },
    {
      "cell_type": "code",
      "execution_count": null,
      "id": "9794d994",
      "metadata": {
        "id": "9794d994",
        "outputId": "06857527-d8ae-4ed7-8b3d-15ac278889f0"
      },
      "outputs": [
        {
          "data": {
            "text/plain": [
              "torch.Size([128])"
            ]
          },
          "execution_count": 21,
          "metadata": {},
          "output_type": "execute_result"
        }
      ],
      "source": [
        "hidden.shape"
      ]
    },
    {
      "cell_type": "code",
      "execution_count": null,
      "id": "ac60ded7",
      "metadata": {
        "id": "ac60ded7"
      },
      "outputs": [],
      "source": [
        "second_layer = nn.Linear(in_features=128, out_features=1, bias=True)\n"
      ]
    },
    {
      "cell_type": "code",
      "execution_count": null,
      "id": "944dd4ea",
      "metadata": {
        "id": "944dd4ea",
        "outputId": "728f6923-f695-43f5-ec0f-89f70f27d3f6"
      },
      "outputs": [
        {
          "data": {
            "text/plain": [
              "(['PAD', 'PAD', 'the', 'european', 'commission'],\n",
              " tensor([0.5030], grad_fn=<SigmoidBackward0>))"
            ]
          },
          "execution_count": 23,
          "metadata": {},
          "output_type": "execute_result"
        }
      ],
      "source": [
        "second_output = second_layer(hidden_after_activation)\n",
        "final_prediction = torch.sigmoid(second_output)\n",
        "words_window, final_prediction"
      ]
    },
    {
      "cell_type": "code",
      "execution_count": null,
      "id": "31b894da",
      "metadata": {
        "id": "31b894da",
        "outputId": "2952efa1-2406-45cb-e746-b85e2ed03e78"
      },
      "outputs": [
        {
          "data": {
            "text/plain": [
              "tensor([0.5000])"
            ]
          },
          "execution_count": 24,
          "metadata": {},
          "output_type": "execute_result"
        }
      ],
      "source": [
        "torch.sigmoid(torch.zeros(1))"
      ]
    },
    {
      "cell_type": "code",
      "execution_count": null,
      "id": "d1717281",
      "metadata": {
        "id": "d1717281",
        "outputId": "cbffdcdc-edd7-4223-e1d1-768eb0c8319a"
      },
      "outputs": [
        {
          "data": {
            "text/plain": [
              "['PAD', 'PAD', 'the', 'european', 'commission']"
            ]
          },
          "execution_count": 25,
          "metadata": {},
          "output_type": "execute_result"
        }
      ],
      "source": [
        "get_words_window(sentence, word_idx, window_size)\n"
      ]
    },
    {
      "cell_type": "code",
      "execution_count": null,
      "id": "97b788b1",
      "metadata": {
        "id": "97b788b1",
        "outputId": "77bca866-8bc6-4f12-cca5-40dc3f58e280"
      },
      "outputs": [
        {
          "data": {
            "text/plain": [
              "['The DT B-NP O',\n",
              " 'European NNP I-NP B-ORG',\n",
              " 'Commission NNP I-NP I-ORG',\n",
              " 'said VBD B-VP O',\n",
              " 'on IN B-PP O']"
            ]
          },
          "execution_count": 26,
          "metadata": {},
          "output_type": "execute_result"
        }
      ],
      "source": [
        "sentence[:5]"
      ]
    },
    {
      "cell_type": "code",
      "execution_count": null,
      "id": "f4fffd28",
      "metadata": {
        "id": "f4fffd28"
      },
      "outputs": [],
      "source": [
        ""
      ]
    },
    {
      "cell_type": "markdown",
      "id": "d3f8b574",
      "metadata": {
        "id": "d3f8b574"
      },
      "source": [
        "## 3. Make a Neural Network Model"
      ]
    },
    {
      "cell_type": "code",
      "execution_count": null,
      "id": "05ef02f4",
      "metadata": {
        "id": "05ef02f4",
        "outputId": "ec2ff288-fdc5-4b35-f8e1-ac3df45bcd56"
      },
      "outputs": [
        {
          "name": "stdout",
          "output_type": "stream",
          "text": [
            "<class '__main__.NERModel'>\n"
          ]
        },
        {
          "data": {
            "text/plain": [
              "tensor([0.5042], grad_fn=<SigmoidBackward0>)"
            ]
          },
          "execution_count": 27,
          "metadata": {},
          "output_type": "execute_result"
        }
      ],
      "source": [
        "class NERModel(nn.Module):\n",
        "  def __init__(self):\n",
        "    super().__init__()\n",
        "    self.first_layer = nn.Linear(in_features=1500, out_features=128)\n",
        "    self.second_layer = nn.Linear(in_features=128, out_features=1)\n",
        "    \n",
        "  def forward(self, x):\n",
        "#     print(\"forward is called\")\n",
        "#     print(x)\n",
        "    hidden_representation = self.first_layer(x)\n",
        "    hidden_after_activation = torch.relu(hidden_representation)\n",
        "    scalar_value = self.second_layer(hidden_after_activation)\n",
        "    probability = torch.sigmoid(scalar_value)\n",
        "    return probability\n",
        "  \n",
        "\n",
        "model = NERModel()\n",
        "print(type(model))\n",
        "model(concat_tensor)"
      ]
    },
    {
      "cell_type": "markdown",
      "id": "c85a3ba8",
      "metadata": {
        "id": "c85a3ba8"
      },
      "source": [
        "## 4. Implement a train loop"
      ]
    },
    {
      "cell_type": "code",
      "execution_count": null,
      "id": "74b595af",
      "metadata": {
        "id": "74b595af"
      },
      "outputs": [],
      "source": [
        "'''\n",
        "For Epoch in NumEpochs:\n",
        "  For DataSample in TrainingSet:\n",
        "    TrainWithDataSample(Model, DataSample)\n",
        "\n",
        "'''"
      ]
    },
    {
      "cell_type": "code",
      "execution_count": null,
      "id": "6750b643",
      "metadata": {
        "id": "6750b643",
        "outputId": "54eb4a88-719f-4ca9-a03c-508492c9b633"
      },
      "outputs": [
        {
          "data": {
            "text/plain": [
              "['The DT B-NP O',\n",
              " 'European NNP I-NP B-ORG',\n",
              " 'Commission NNP I-NP I-ORG',\n",
              " 'said VBD B-VP O',\n",
              " 'on IN B-PP O',\n",
              " 'Thursday NNP B-NP O',\n",
              " 'it PRP B-NP O',\n",
              " 'disagreed VBD B-VP O',\n",
              " 'with IN B-PP O',\n",
              " 'German JJ B-NP B-MISC',\n",
              " 'advice NN I-NP O',\n",
              " 'to TO B-PP O',\n",
              " 'consumers NNS B-NP O',\n",
              " 'to TO B-VP O',\n",
              " 'shun VB I-VP O',\n",
              " 'British JJ B-NP B-MISC',\n",
              " 'lamb NN I-NP O',\n",
              " 'until IN B-SBAR O',\n",
              " 'scientists NNS B-NP O',\n",
              " 'determine VBP B-VP O',\n",
              " 'whether IN B-SBAR O',\n",
              " 'mad JJ B-NP O',\n",
              " 'cow NN I-NP O',\n",
              " 'disease NN I-NP O',\n",
              " 'can MD B-VP O',\n",
              " 'be VB I-VP O',\n",
              " 'transmitted VBN I-VP O',\n",
              " 'to TO B-PP O',\n",
              " 'sheep NN B-NP O',\n",
              " '. . O O']"
            ]
          },
          "execution_count": 28,
          "metadata": {},
          "output_type": "execute_result"
        }
      ],
      "source": [
        "dataset_in_sentence[4]"
      ]
    },
    {
      "cell_type": "code",
      "execution_count": null,
      "id": "936e1c90",
      "metadata": {
        "id": "936e1c90"
      },
      "outputs": [],
      "source": [
        "loss_fn = torch.nn.BCELoss()"
      ]
    },
    {
      "cell_type": "code",
      "execution_count": null,
      "id": "d163bc90",
      "metadata": {
        "id": "d163bc90",
        "outputId": "26e02882-0d7f-4265-b568-135fd0ab9adf"
      },
      "outputs": [
        {
          "data": {
            "text/plain": [
              "0.6931471805599453"
            ]
          },
          "execution_count": 30,
          "metadata": {},
          "output_type": "execute_result"
        }
      ],
      "source": [
        "from math import log\n",
        "-log(0.5)"
      ]
    },
    {
      "cell_type": "code",
      "execution_count": null,
      "id": "6dd30951",
      "metadata": {
        "scrolled": true,
        "id": "6dd30951",
        "outputId": "1cf233ae-c1eb-4d9c-d1a5-7545757f8065"
      },
      "outputs": [
        {
          "name": "stdout",
          "output_type": "stream",
          "text": [
            "0.6947046518325806\n",
            "0.688420295715332\n",
            "0.6847335696220398\n",
            "0.7857690453529358\n",
            "0.619737446308136\n",
            "0.9471697807312012\n",
            "0.6553601026535034\n",
            "0.6054829359054565\n",
            "0.5509281158447266\n",
            "0.5430716872215271\n",
            "0.45677825808525085\n",
            "0.49060994386672974\n",
            "0.6068881750106812\n",
            "0.4140084385871887\n",
            "0.25340917706489563\n",
            "0.4268498122692108\n",
            "0.33900216221809387\n",
            "0.24365416169166565\n",
            "0.9744150042533875\n",
            "0.6931757926940918\n",
            "0.2798040509223938\n",
            "0.6705257296562195\n",
            "0.5267831087112427\n",
            "0.7894644141197205\n",
            "0.27239739894866943\n",
            "0.2584095299243927\n",
            "0.2507447302341461\n",
            "0.3527621626853943\n",
            "0.13428936898708344\n",
            "0.2111787647008896\n"
          ]
        }
      ],
      "source": [
        "model = NERModel()\n",
        "optimizer = torch.optim.Adam(model.parameters(), lr=0.001)\n",
        "\n",
        "'''\n",
        "on-the-fly method to get a data sample\n",
        "'''\n",
        "for sentence in dataset_in_sentence[:30]:\n",
        "  for wrd_idx in range(len(sentence)):\n",
        "    words_window = get_words_window(sentence, wrd_idx, 2)\n",
        "    flattened_vector = make_flattened_vector_for_words_window(words_window)\n",
        "    prediction = model(flattened_vector)\n",
        "    \n",
        "    label = sentence[wrd_idx].split(' ')[-1] in ('B-LOC', 'I-LOC')\n",
        "    label_tensor = torch.Tensor([label]).float()\n",
        "    loss = loss_fn(prediction, label_tensor) # Calculate loss\n",
        "    loss.backward() # Backpropagate the loss to get the gradient\n",
        "    optimizer.step() # Update the parameters\n",
        "    optimizer.zero_grad() # Reset the gradient of the parameters\n",
        "    print(loss.item())\n",
        "#     print(prediction.item(), label_tensor, loss.item())\n",
        "#     print(words_window, prediction, label)\n",
        "    break"
      ]
    },
    {
      "cell_type": "code",
      "execution_count": null,
      "id": "f55af452",
      "metadata": {
        "id": "f55af452"
      },
      "outputs": [],
      "source": [
        "'''\n",
        "Prepare training data before we start the training stage\n",
        "'''\n",
        "\n"
      ]
    },
    {
      "cell_type": "code",
      "execution_count": null,
      "id": "1a9d79d3",
      "metadata": {
        "id": "1a9d79d3"
      },
      "outputs": [],
      "source": [
        "def prepare_dataset(dataset_in_sentence):\n",
        "  total_data_sample = []\n",
        "  for sentence in dataset_in_sentence[:100]:\n",
        "    for wrd_idx in range(len(sentence)):\n",
        "      words_window = get_words_window(sentence, wrd_idx, 2)\n",
        "      flattened_vector = make_flattened_vector_for_words_window(words_window)    \n",
        "      label = sentence[wrd_idx].split(' ')[-1] in ('B-LOC', 'I-LOC')\n",
        "      data_sample = (flattened_vector, label)\n",
        "      total_data_sample.append(data_sample)\n",
        "  return total_data_sample\n",
        "\n",
        "total_data_sample = prepare_dataset(dataset_in_sentence)"
      ]
    },
    {
      "cell_type": "code",
      "execution_count": null,
      "id": "aafea88d",
      "metadata": {
        "scrolled": true,
        "id": "aafea88d",
        "outputId": "de7d2d78-03ce-4dff-c717-49be6fdc9cab"
      },
      "outputs": [
        {
          "data": {
            "text/plain": [
              "(1529,\n",
              " (tensor([-0.4737, -0.1800, -0.4015,  ...,  1.0656, -0.0622,  0.4095]), False))"
            ]
          },
          "execution_count": 37,
          "metadata": {},
          "output_type": "execute_result"
        }
      ],
      "source": [
        "len(total_data_sample), total_data_sample[400]"
      ]
    },
    {
      "cell_type": "code",
      "execution_count": null,
      "id": "0a2530be",
      "metadata": {
        "id": "0a2530be"
      },
      "outputs": [],
      "source": [
        "class WindowWordDataset:\n",
        "  def __init__(self, txt_path):\n",
        "    \n",
        "    with open(txt_path) as f:\n",
        "      string = ''.join(f.readlines())\n",
        "    dataset = string.split('\\n')\n",
        "    self.data_in_sentence = [list(group) for k, group in groupby(dataset, lambda x: x == \"\") if not k]\n",
        "    self.data_samples = self.prepare_entire_data_sample()\n",
        "    \n",
        "  def prepare_entire_data_sample(self):\n",
        "    total_data_sample = []\n",
        "    for sentence in self.data_in_sentence:\n",
        "      for wrd_idx in range(len(sentence)):\n",
        "        words_window = get_words_window(sentence, wrd_idx, 2)\n",
        "        flattened_vector = make_flattened_vector_for_words_window(words_window)    \n",
        "        label = sentence[wrd_idx].split(' ')[-1] in ('B-LOC', 'I-LOC')\n",
        "        data_sample = (flattened_vector, label, words_window)\n",
        "        total_data_sample.append(data_sample)\n",
        "    return total_data_sample\n",
        "  \n",
        "  def __len__(self):\n",
        "    return len(self.data_samples)\n",
        "  \n",
        "  def __getitem__(self, idx):\n",
        "    return self.data_samples[idx][:2]\n",
        "  \n",
        "dataset = WindowWordDataset('train.txt')"
      ]
    },
    {
      "cell_type": "code",
      "execution_count": null,
      "id": "08199b6f",
      "metadata": {
        "id": "08199b6f",
        "outputId": "b76171cf-c831-449a-c8df-7a4fa396530e"
      },
      "outputs": [
        {
          "data": {
            "text/plain": [
              "1529"
            ]
          },
          "execution_count": 61,
          "metadata": {},
          "output_type": "execute_result"
        }
      ],
      "source": [
        "len(dataset)"
      ]
    },
    {
      "cell_type": "code",
      "execution_count": null,
      "id": "bdcb48e5",
      "metadata": {
        "scrolled": false,
        "id": "bdcb48e5",
        "outputId": "64e62b05-5488-4e4c-86f4-791c18ce45c4"
      },
      "outputs": [
        {
          "data": {
            "text/plain": [
              "((tensor([ 1.0857,  0.1658, -0.7905,  ...,  0.0020,  0.7095,  0.2967]), False),\n",
              " (tensor([ 1.0857,  0.1658, -0.7905,  ...,  0.0020,  0.7095,  0.2967]),\n",
              "  False,\n",
              "  ['palacio', 'had', 'earlier', 'accused', 'fischler']))"
            ]
          },
          "execution_count": 63,
          "metadata": {},
          "output_type": "execute_result"
        }
      ],
      "source": [
        "dataset[245]"
      ]
    },
    {
      "cell_type": "code",
      "execution_count": null,
      "id": "960cf603",
      "metadata": {
        "scrolled": true,
        "id": "960cf603",
        "outputId": "b54bde88-8acb-47d5-e270-547539a7edb3"
      },
      "outputs": [
        {
          "data": {
            "text/plain": [
              "(tensor([[-0.2554, -0.2572,  0.1317,  ..., -0.3506, -0.2220,  0.1428],\n",
              "         [ 0.0807, -0.1294, -0.2023,  ..., -0.5156,  0.0109, -0.0041],\n",
              "         [ 0.1106, -0.5291, -0.0692,  ..., -0.3988, -0.8299,  0.1757],\n",
              "         ...,\n",
              "         [ 0.4653, -0.1545, -0.5285,  ..., -0.3401,  0.3067, -0.4787],\n",
              "         [-0.0215,  0.3953, -0.0911,  ...,  0.0000,  0.0000,  0.0000],\n",
              "         [ 0.0466,  0.2132, -0.0074,  ...,  0.0091, -0.2099,  0.0539]]),\n",
              " tensor([0., 0., 0., 0., 0., 0., 0., 0., 0., 0., 0., 0., 0., 0., 0., 0.]))"
            ]
          },
          "execution_count": 93,
          "metadata": {},
          "output_type": "execute_result"
        }
      ],
      "source": [
        "from torch.utils.data import DataLoader\n",
        "\n",
        "def custom_collate_fn(raw_batch):\n",
        "  '''\n",
        "  collate raw batch (a list of tuple data sample)\n",
        "  '''\n",
        "  \n",
        "  input_vectors = []\n",
        "  labels = []\n",
        "  for data_sample in raw_batch:\n",
        "    input_vector = data_sample[0]\n",
        "    label = data_sample[1]\n",
        "    \n",
        "    input_vectors.append(input_vector)\n",
        "    labels.append(label)\n",
        "#   print(input_vectors)\n",
        "#   print(labels)\n",
        "  \n",
        "  input_tensor = torch.stack(input_vectors) # stack a list of tensor into a new dimension\n",
        "#   concat_tensor = torch.cat(input_vectors) # this concatenate to an existing dimension\n",
        "  label_tensor = torch.Tensor(labels)\n",
        "#   print(input_tensor.shape, concat_tensor.shape)\n",
        "  return input_tensor, label_tensor \n",
        "  \n",
        "\n",
        "train_loader = DataLoader(dataset, batch_size=16, shuffle=True, collate_fn=custom_collate_fn, drop_last=True)\n",
        "batch = next(iter(train_loader))\n",
        "batch"
      ]
    },
    {
      "cell_type": "code",
      "execution_count": null,
      "id": "14a9d844",
      "metadata": {
        "id": "14a9d844",
        "outputId": "f2f5df4d-40ea-4a1c-de74-35e8be418266"
      },
      "outputs": [
        {
          "data": {
            "text/plain": [
              "(204560, 204567)"
            ]
          },
          "execution_count": 94,
          "metadata": {},
          "output_type": "execute_result"
        }
      ],
      "source": [
        "len(train_loader) * train_loader.batch_size, len(train_loader.dataset)"
      ]
    },
    {
      "cell_type": "code",
      "execution_count": null,
      "id": "71fc676d",
      "metadata": {
        "id": "71fc676d",
        "outputId": "4cb32bab-ad68-424d-c642-856a028df747"
      },
      "outputs": [
        {
          "data": {
            "text/plain": [
              "204560"
            ]
          },
          "execution_count": 96,
          "metadata": {},
          "output_type": "execute_result"
        }
      ],
      "source": [
        "204567//16 * 16"
      ]
    },
    {
      "cell_type": "code",
      "execution_count": null,
      "id": "9fda4c01",
      "metadata": {
        "id": "9fda4c01"
      },
      "outputs": [],
      "source": [
        "'''\n",
        "Vanilla Gradient Descent\n",
        "\n",
        "weights -= weights.grad * lr\n",
        "\n",
        "'''"
      ]
    },
    {
      "cell_type": "code",
      "execution_count": null,
      "id": "2ab3cbb6",
      "metadata": {
        "id": "2ab3cbb6"
      },
      "outputs": [],
      "source": [
        "from tqdm import tqdm\n",
        "import itertools \n",
        "model = NERModel()\n",
        "optimizer = torch.optim.Adam(model.parameters(), lr=0.001)\n",
        "train_loader = DataLoader(dataset, batch_size=64, shuffle=True, collate_fn=custom_collate_fn, drop_last=True)\n",
        "\n",
        "loss_record = []\n",
        "# num_epochs = 5\n",
        "num_iteration = 0\n",
        "target_num_iteration = 10000\n",
        "\n",
        "# for epoch in tqdm(range(num_epochs)):\n",
        "for batch in itertools.cycle(train_loader):\n",
        "  input_tensor, label = batch # input_tensor = batch[0] // label = batch[1]\n",
        "  prediction = model(input_tensor)\n",
        "  loss = loss_fn(prediction, label.unsqueeze(1)) # Calculate loss\n",
        "  loss.backward() # Backpropagate the loss to get the gradient\n",
        "  optimizer.step() # Update the parameters\n",
        "  optimizer.zero_grad() # Reset the gradient of the parameters\n",
        "  loss_record.append(loss.item())\n",
        "  num_iteration += 1 \n",
        "  if num_iteration > target_num_iteration:\n",
        "    break"
      ]
    },
    {
      "cell_type": "code",
      "execution_count": null,
      "id": "62448a0a",
      "metadata": {
        "scrolled": true,
        "id": "62448a0a",
        "outputId": "78010ad3-c062-4993-8512-ce7d6910ac21"
      },
      "outputs": [
        {
          "data": {
            "text/plain": [
              "[<matplotlib.lines.Line2D at 0x7f04296e7d30>]"
            ]
          },
          "execution_count": 108,
          "metadata": {},
          "output_type": "execute_result"
        },
        {
          "data": {
            "image/png": "[encoded data removed]",
            "text/plain": [
              "<Figure size 432x288 with 1 Axes>"
            ]
          },
          "metadata": {
            "needs_background": "light"
          },
          "output_type": "display_data"
        }
      ],
      "source": [
        "import matplotlib.pyplot as plt\n",
        "plt.plot(loss_record)"
      ]
    },
    {
      "cell_type": "code",
      "execution_count": null,
      "id": "5197877b",
      "metadata": {
        "id": "5197877b"
      },
      "outputs": [],
      "source": [
        ""
      ]
    },
    {
      "cell_type": "code",
      "execution_count": null,
      "id": "2747e260",
      "metadata": {
        "id": "2747e260",
        "outputId": "fadd518d-e4f6-4b0d-b25c-f8ab014240c6"
      },
      "outputs": [
        {
          "name": "stdout",
          "output_type": "stream",
          "text": [
            "[tensor([[ 0.0000,  0.0000,  0.0000,  ...,  0.0000,  0.0000,  0.0000],\n",
            "        [ 0.0000,  0.0000,  0.0000,  ..., -0.1950,  0.2041,  0.3530],\n",
            "        [ 0.0000,  0.0000,  0.0000,  ..., -0.2705, -0.1292, -0.0133],\n",
            "        [ 0.5473, -0.2364, -0.2143,  ..., -0.1604,  0.0467, -0.0706]]), tensor([False, False, False, False])]\n"
          ]
        }
      ],
      "source": [
        "for batch in train_loader:\n",
        "  print(batch)\n",
        "  break\n",
        "\n",
        "# batch = next(iter(train_loader))"
      ]
    },
    {
      "cell_type": "code",
      "execution_count": null,
      "id": "13a8aa91",
      "metadata": {
        "id": "13a8aa91",
        "outputId": "6ad8df7b-7456-47b7-f5e5-dd41d5c9efc0"
      },
      "outputs": [
        {
          "data": {
            "text/plain": [
              "[tensor([[ 0.0000,  0.0000,  0.0000,  ...,  0.0000,  0.0000,  0.0000],\n",
              "         [ 0.0000,  0.0000,  0.0000,  ..., -0.1950,  0.2041,  0.3530],\n",
              "         [ 0.0000,  0.0000,  0.0000,  ..., -0.2705, -0.1292, -0.0133],\n",
              "         [ 0.5473, -0.2364, -0.2143,  ..., -0.1604,  0.0467, -0.0706]]),\n",
              " tensor([False, False, False, False])]"
            ]
          },
          "execution_count": 69,
          "metadata": {},
          "output_type": "execute_result"
        }
      ],
      "source": [
        "batch"
      ]
    },
    {
      "cell_type": "markdown",
      "id": "6dce0efd",
      "metadata": {
        "id": "6dce0efd"
      },
      "source": [
        "## 5. Make Inference"
      ]
    },
    {
      "cell_type": "code",
      "execution_count": null,
      "id": "3fcf2a6c",
      "metadata": {
        "id": "3fcf2a6c"
      },
      "outputs": [],
      "source": [
        ""
      ]
    }
  ],
  "metadata": {
    "kernelspec": {
      "display_name": "Python 3 (ipykernel)",
      "language": "python",
      "name": "python3"
    },
    "language_info": {
      "codemirror_mode": {
        "name": "ipython",
        "version": 3
      },
      "file_extension": ".py",
      "mimetype": "text/x-python",
      "name": "python",
      "nbconvert_exporter": "python",
      "pygments_lexer": "ipython3",
      "version": "3.8.10"
    },
    "colab": {
      "name": "2. Named Entity Recognition Livecoding.ipynb",
      "provenance": []
    }
  },
  "nbformat": 4,
  "nbformat_minor": 5
}